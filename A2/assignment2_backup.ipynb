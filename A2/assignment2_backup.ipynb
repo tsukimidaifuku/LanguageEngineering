{
 "cells": [
  {
   "cell_type": "markdown",
   "metadata": {},
   "source": [
    "# Assignment 2"
   ]
  },
  {
   "cell_type": "markdown",
   "metadata": {},
   "source": [
    "## 1"
   ]
  },
  {
   "cell_type": "markdown",
   "metadata": {},
   "source": [
    "output `small_model.txt`:\n",
    "```\n",
    "11 19 \n",
    "0 i 3 \n",
    "1 live 1\n",
    "2 in 1\n",
    "3 boston 1\n",
    "4 . 3\n",
    "5 like 3\n",
    "6 ants 2\n",
    "7 honey 2\n",
    "8 therefore 1\n",
    "9 too 1\n",
    "10 ! 1\n",
    "0 1 -1.098612288668110\n",
    "0 5 -0.405465108108164\n",
    "1 2 0.000000000000000\n",
    "2 3 0.000000000000000\n",
    "3 4 0.000000000000000\n",
    "4 0 -1.098612288668110\n",
    "4 6 -1.098612288668110\n",
    "4 8 -1.098612288668110\n",
    "5 6 -1.098612288668110\n",
    "5 7 -0.405465108108164\n",
    "6 4 -0.693147180559945\n",
    "6 5 -0.693147180559945\n",
    "7 4 -0.693147180559945\n",
    "7 9 -0.693147180559945\n",
    "8 0 0.000000000000000\n",
    "9 10 0.000000000000000\n",
    "-1\n",
    "```"
   ]
  },
  {
   "cell_type": "markdown",
   "metadata": {},
   "source": [
    "bigram probability should be written as:\n",
    "\n",
    "$ P(w_i | w_{i-1}) = \\dfrac{c(w_{i-1}, w_{i})}{c(w_{i-1})}$"
   ]
  },
  {
   "cell_type": "markdown",
   "metadata": {},
   "source": [
    "# 2"
   ]
  },
  {
   "cell_type": "markdown",
   "metadata": {},
   "source": [
    "Running `Generator.py`\n",
    "\n",
    "`python .\\Generator.py -f .\\kafka_model.txt -s i -n 7`"
   ]
  },
  {
   "cell_type": "markdown",
   "metadata": {},
   "source": [
    "Output:\n",
    "\n",
    "`i ca n't eat . now and ,`"
   ]
  },
  {
   "cell_type": "markdown",
   "metadata": {},
   "source": [
    "Or,\n",
    "\n",
    "`python .\\Generator.py -f kafka_model.txt -s dog -n 5`\n",
    "\n",
    "Output:\n",
    "\n",
    "`dog copy out again ! grete`"
   ]
  },
  {
   "cell_type": "markdown",
   "metadata": {},
   "source": [
    "# 3"
   ]
  },
  {
   "cell_type": "markdown",
   "metadata": {},
   "source": [
    "Linear Interpolation is\n",
    "\n",
    "$ P(w_{i-1} w_{i}) =\\lambda_{1} P(w_i | w_{i-1}) + \\lambda_{2} P(w_i) + \\lambda_{3}$"
   ]
  },
  {
   "cell_type": "markdown",
   "metadata": {},
   "source": [
    "Approximate the entropy as:\n",
    "\n",
    "$ - \\dfrac{1}{N} \\log_2 P(w_{i-1}w_{i})$"
   ]
  },
  {
   "cell_type": "markdown",
   "metadata": {},
   "source": [
    "## (a)\n",
    "\n",
    "running `run_tester_small_kafka.bat`"
   ]
  },
  {
   "cell_type": "markdown",
   "metadata": {},
   "source": [
    "I got the output:\n",
    "\n",
    "`Read 24944 words. Estimated entropy: 13.46`\n",
    "\n",
    "--\n",
    "\n",
    "the file `entropy_small_kafka.txt`\n",
    "\n",
    "`Read 24944 words. Estimated entropy: 13.46`"
   ]
  },
  {
   "cell_type": "markdown",
   "metadata": {},
   "source": [
    "running `run_tester_kafka_small.bat`\n",
    "\n"
   ]
  },
  {
   "cell_type": "markdown",
   "metadata": {},
   "source": [
    "I got the output:\n",
    "\n",
    "`Read 19 words. Estimated entropy: 10.29`\n",
    "\n",
    "--\n",
    "\n",
    "the file `entropy_kafka_small.txt`\n",
    "\n",
    "`Read 19 words. Estimated entropy: 10.29`"
   ]
  },
  {
   "cell_type": "markdown",
   "metadata": {},
   "source": [
    "## (b)"
   ]
  },
  {
   "cell_type": "markdown",
   "metadata": {},
   "source": [
    "*`run_tester_austen_austen.bat`*\n",
    "\n",
    "I got the output:\n",
    "\n",
    "`Read 10738 words. Estimated entropy: 6.97`"
   ]
  },
  {
   "cell_type": "markdown",
   "metadata": {},
   "source": [
    "*`-f austin_model -t guardian_test`*\n",
    "\n",
    "I got the output:\n",
    "\n",
    "`Read 871878 words. Estimated entropy: 9.75`"
   ]
  },
  {
   "cell_type": "markdown",
   "metadata": {},
   "source": [
    "*`run_tester_guardian_guardian.bat`*\n",
    "\n",
    "I got the output:\n",
    "\n",
    "`Read 871878 words. Estimated entropy: 6.62`"
   ]
  },
  {
   "cell_type": "markdown",
   "metadata": {},
   "source": [
    "*`-f guarfian_model -t austen_test`*\n",
    "\n",
    "I got the output:\n",
    "\n",
    "`Read 10738 words. Estimated entropy: 6.56`"
   ]
  },
  {
   "cell_type": "markdown",
   "metadata": {},
   "source": [
    "=="
   ]
  },
  {
   "cell_type": "markdown",
   "metadata": {},
   "source": [
    "To evaluate these two models, austen and guardian, I ran *`run_tester_austen_kafka.bat`* and *`-f guardian_model -t kafka`*.\n",
    "\n",
    "I got the output for former one as: `Read 24944 words. Estimated entropy: 7.36`\n",
    "\n",
    "the latter one as: `Read 24944 words. Estimated entropy: 6.04`\n",
    "\n",
    "As these results (including the result of austen_test, guardian_test), we can draw a conclusion that **guardian_model is better than austen_model** because of *\"The lower the entropy of the test corpus, the better the language model learned from the training corpus.\"*"
   ]
  },
  {
   "cell_type": "markdown",
   "metadata": {},
   "source": [
    "# 4"
   ]
  },
  {
   "cell_type": "markdown",
   "metadata": {},
   "source": [
    "## (a) (b) (e) Batch Gradient"
   ]
  },
  {
   "cell_type": "markdown",
   "metadata": {},
   "source": [
    "**Real vs Predicted**\n",
    "\n",
    "|   |  0  |  1  |\n",
    "|---|-----|-----|\n",
    "| 0 |84710|15288| \n",
    "| 1 |  0  |  0  |"
   ]
  },
  {
   "cell_type": "markdown",
   "metadata": {},
   "source": [
    "I looped for 1000 times\n",
    "\n",
    "<img src=\"./fig/gd2.png\" width=\"500\">"
   ]
  },
  {
   "cell_type": "code",
   "execution_count": 1,
   "metadata": {},
   "outputs": [
    {
     "name": "stdout",
     "output_type": "stream",
     "text": [
      "accuracy:  0.8471169423388468\n",
      "precision_0:  0.8471169423388468\n",
      "recall_0:  1.0\n",
      "recall_1:  0.0\n"
     ]
    }
   ],
   "source": [
    "total = 84710 + 15288\n",
    "\n",
    "accuracy = 84710 / total\n",
    "pre_0 = 84710 / (84710 + 15288)\n",
    "\n",
    "recall_0 = 84710 / (84710 + 0)\n",
    "recall_1 = 0 / (15288 + 0)\n",
    "\n",
    "print(\"accuracy: \", accuracy)\n",
    "print(\"precision_0: \", pre_0)\n",
    "print(\"recall_0: \", recall_0)\n",
    "print(\"recall_1: \", recall_1)"
   ]
  },
  {
   "cell_type": "markdown",
   "metadata": {},
   "source": [
    "**Accuracy, Precision, Recall**\n",
    "\n",
    "|   |    |\n",
    "|---|-----|\n",
    "| Accuracy |84.7 %|\n",
    "| Precision_0 |84.7 %|\n",
    "| Precision_1 |  0  |\n",
    "| Recall_0 |100 %|\n",
    "| Recall_1 | 0 % |"
   ]
  },
  {
   "cell_type": "markdown",
   "metadata": {},
   "source": [
    "## (c) (e) SDG"
   ]
  },
  {
   "cell_type": "markdown",
   "metadata": {},
   "source": [
    "**Real vs Predicted**\n",
    "\n",
    "|   |  0  |  1  |\n",
    "|---|-----|-----|\n",
    "| 0 |83831|3242 | \n",
    "| 1 | 879 |12046|"
   ]
  },
  {
   "cell_type": "markdown",
   "metadata": {},
   "source": [
    "10000 loops per epoch, and looped for 10 epochs\n",
    "\n",
    "<img src=\"./fig/sto_gd1.png\" width=\"500\">"
   ]
  },
  {
   "cell_type": "code",
   "execution_count": 2,
   "metadata": {},
   "outputs": [
    {
     "name": "stdout",
     "output_type": "stream",
     "text": [
      "accuracy:  0.9587891757835156\n",
      "precision_0:  0.9627668737725816\n",
      "precision_1:  0.9319922630560928\n",
      "recall_0:  0.9896234210836973\n",
      "recall_1:  0.7879382522239665\n"
     ]
    }
   ],
   "source": [
    "total = 84710 + 15288\n",
    "\n",
    "accuracy = (83831 + 12046) / total\n",
    "pre_0 = 83831 / (83831 + 3242)\n",
    "pre_1 = 12046 / (12046 + 879)\n",
    "\n",
    "recall_0 = 83831 / (83831 + 879)\n",
    "recall_1 = 12046 / (12046 + 3242)\n",
    "\n",
    "print(\"accuracy: \", accuracy)\n",
    "print(\"precision_0: \", pre_0)\n",
    "print(\"precision_1: \", pre_1)\n",
    "print(\"recall_0: \", recall_0)\n",
    "print(\"recall_1: \", recall_1)"
   ]
  },
  {
   "cell_type": "markdown",
   "metadata": {},
   "source": [
    "**Accuracy, Precision, Recall**\n",
    "\n",
    "|   |    |\n",
    "|---|-----|\n",
    "| Accuracy |95.9 %|\n",
    "| Precision_0 |96.3 %|\n",
    "| Precision_1 | 93.2 %|\n",
    "| Recall_0 |98.7 %|\n",
    "| Recall_1 | 78.8 % |"
   ]
  },
  {
   "cell_type": "markdown",
   "metadata": {},
   "source": [
    "## (d) (e) minibatch\n",
    " \n",
    "**Real vs Predicted**\n",
    "\n",
    "|   |  0  |  1  |\n",
    "|---|-----|-----|\n",
    "| 0 |80674|2015 | \n",
    "| 1 | 4036 |13273|"
   ]
  },
  {
   "cell_type": "markdown",
   "metadata": {},
   "source": [
    "looped for 10 epochs\n",
    "\n",
    "<img src=\"./fig/minibatch.png\" width=\"500\">"
   ]
  },
  {
   "cell_type": "code",
   "execution_count": 4,
   "metadata": {},
   "outputs": [
    {
     "name": "stdout",
     "output_type": "stream",
     "text": [
      "accuracy:  0.9394887897757955\n",
      "precision_0:  0.975631583402871\n",
      "precision_1:  0.7668265064417356\n",
      "recall_0:  0.9523550938496045\n",
      "recall_1:  0.8681972789115646\n"
     ]
    }
   ],
   "source": [
    "total = 84710 + 15288\n",
    "\n",
    "accuracy = (80674 + 13273) / total\n",
    "pre_0 = 80674 / (80674 + 2015)\n",
    "pre_1 = 13273 / (13273 + 4036)\n",
    "\n",
    "recall_0 = 80674 / (80674 + 4036)\n",
    "recall_1 = 13273 / (13273 + 2015)\n",
    "\n",
    "print(\"accuracy: \", accuracy)\n",
    "print(\"precision_0: \", pre_0)\n",
    "print(\"precision_1: \", pre_1)\n",
    "print(\"recall_0: \", recall_0)\n",
    "print(\"recall_1: \", recall_1)"
   ]
  },
  {
   "cell_type": "markdown",
   "metadata": {},
   "source": [
    "**Accuracy, Precision, Recall**\n",
    "\n",
    "|   |    |\n",
    "|---|-----|\n",
    "| Accuracy |93.9 %|\n",
    "| Precision_0 |97.6 %|\n",
    "| Precision_1 | 76.7 %|\n",
    "| Recall_0 |95.2 %|\n",
    "| Recall_1 | 86.8 % |"
   ]
  },
  {
   "cell_type": "markdown",
   "metadata": {},
   "source": [
    "## (f)"
   ]
  },
  {
   "cell_type": "markdown",
   "metadata": {},
   "source": [
    "I add two features.\n",
    "\n",
    "1. If the word includes the uppercase letter. (Includes uppercase: 1)\n",
    "2. If the word includes the digit. (Includes digit: 1)"
   ]
  },
  {
   "cell_type": "markdown",
   "metadata": {},
   "source": [
    "### Using Batch Gradient\n",
    "\n",
    "**Real vs Predicted**\n",
    "\n",
    "|   |  0  |  1  |\n",
    "|---|-----|-----|\n",
    "| 0 |81532|14014 | \n",
    "| 1 |3178 |1274|\n"
   ]
  },
  {
   "cell_type": "markdown",
   "metadata": {},
   "source": [
    "<img src=\"./fig/gd_f1.png\" width=\"500\">"
   ]
  },
  {
   "cell_type": "code",
   "execution_count": 5,
   "metadata": {},
   "outputs": [
    {
     "name": "stdout",
     "output_type": "stream",
     "text": [
      "accuracy:  0.8280765615312307\n",
      "precision_0:  0.8533302633231464\n",
      "precision_1:  0.2861635220125786\n",
      "recall_0:  0.9624846538861083\n",
      "recall_1:  0.08333333333333333\n"
     ]
    }
   ],
   "source": [
    "total = 84710 + 15288\n",
    "\n",
    "accuracy = (81532 + 1274) / total\n",
    "pre_0 = 81534 / (81534 + 14014)\n",
    "pre_1 = 1274 / (3178 + 1274)\n",
    "\n",
    "recall_0 = 81534 / (81534 + 3178)\n",
    "recall_1 = 1274 / (1274 + 14014)\n",
    "\n",
    "print(\"accuracy: \", accuracy)\n",
    "print(\"precision_0: \", pre_0)\n",
    "print(\"precision_1: \", pre_1)\n",
    "print(\"recall_0: \", recall_0)\n",
    "print(\"recall_1: \", recall_1)"
   ]
  },
  {
   "cell_type": "markdown",
   "metadata": {},
   "source": [
    "**Accuracy, Precision, Recall**\n",
    "\n",
    "|   |Before|After|\n",
    "|---|-----|-----|\n",
    "| Accuracy |84.7 %|82.8 %|\n",
    "| Precision_0 |84.7 %|85.3 %|\n",
    "| Precision_1 |  0  | 28.6 %|\n",
    "| Recall_0 |100 %| 96.2 %|\n",
    "| Recall_1 | 0 % | 8.3 %|"
   ]
  },
  {
   "cell_type": "markdown",
   "metadata": {},
   "source": [
    "### Using SGD\n",
    "\n",
    "\n",
    "**Real vs Predicted**\n",
    "\n",
    "|   |  0  |  1  |\n",
    "|---|-----|-----|\n",
    "| 0 |83604|2764 | \n",
    "| 1 |1106 |12524|\n"
   ]
  },
  {
   "cell_type": "markdown",
   "metadata": {},
   "source": [
    "<img src=\"./fig/sto_gd_f2.png\" width=\"500\">"
   ]
  },
  {
   "cell_type": "code",
   "execution_count": 6,
   "metadata": {},
   "outputs": [
    {
     "name": "stdout",
     "output_type": "stream",
     "text": [
      "accuracy:  0.9612992259845197\n",
      "precision_0:  0.9679974064468322\n",
      "precision_1:  0.9188554658840793\n",
      "recall_0:  0.9869436902372801\n",
      "recall_1:  0.8192046049188907\n"
     ]
    }
   ],
   "source": [
    "total = 84710 + 15288\n",
    "\n",
    "accuracy = (83604 + 12524) / total\n",
    "pre_0 = 83604 / (83604 + 2764)\n",
    "pre_1 = 12524 / (1106 + 12524)\n",
    "\n",
    "recall_0 = 83604 / (83604 + 1106)\n",
    "recall_1 = 12524 / (12524 + 2764)\n",
    "\n",
    "print(\"accuracy: \", accuracy)\n",
    "print(\"precision_0: \", pre_0)\n",
    "print(\"precision_1: \", pre_1)\n",
    "print(\"recall_0: \", recall_0)\n",
    "print(\"recall_1: \", recall_1)"
   ]
  },
  {
   "cell_type": "markdown",
   "metadata": {},
   "source": [
    "**Accuracy, Precision, Recall**\n",
    "\n",
    "|   |Before|After|\n",
    "|---|-----|-----|\n",
    "| Accuracy |95.9 %|96.1 %|\n",
    "| Precision_0 |96.3 %|96.8 %|\n",
    "| Precision_1 | 93.2 %|91.9 %|\n",
    "| Recall_0 |98.7 %|98.7 %|\n",
    "| Recall_1 | 78.8 % |81.9 %|"
   ]
  },
  {
   "cell_type": "markdown",
   "metadata": {},
   "source": [
    "### Using minibatch\n",
    "\n",
    "**Real vs Predicted**\n",
    "\n",
    "|   |  0  |  1  |\n",
    "|---|-----|-----|\n",
    "| 0 |80673|2011 | \n",
    "| 1 | 4037 |13277|"
   ]
  },
  {
   "cell_type": "markdown",
   "metadata": {},
   "source": [
    "<img src=\"./fig/minibatch_f1.png\" width=\"500\">"
   ]
  },
  {
   "cell_type": "code",
   "execution_count": 8,
   "metadata": {},
   "outputs": [
    {
     "name": "stdout",
     "output_type": "stream",
     "text": [
      "accuracy:  0.9395187903758075\n",
      "precision_0:  0.9756784867689033\n",
      "precision_1:  0.7668360864040661\n",
      "recall_0:  0.9523432888679022\n",
      "recall_1:  0.8684589220303506\n"
     ]
    }
   ],
   "source": [
    "total = 84710 + 15288\n",
    "\n",
    "accuracy = (80673 + 13277) / total\n",
    "pre_0 = 80673 / (80673 + 2011)\n",
    "pre_1 = 13277 / (13277 + 4037)\n",
    "\n",
    "recall_0 = 80673 / (80673 + 4037)\n",
    "recall_1 = 13277 / (13277 + 2011)\n",
    "\n",
    "print(\"accuracy: \", accuracy)\n",
    "print(\"precision_0: \", pre_0)\n",
    "print(\"precision_1: \", pre_1)\n",
    "print(\"recall_0: \", recall_0)\n",
    "print(\"recall_1: \", recall_1)"
   ]
  },
  {
   "cell_type": "markdown",
   "metadata": {},
   "source": [
    "**Accuracy, Precision, Recall**\n",
    "\n",
    "|   |Before|After|\n",
    "|---|-----|-----|\n",
    "| Accuracy |93.9 %|94.0 %|\n",
    "| Precision_0 |97.6 %|97.7 %|\n",
    "| Precision_1 | 76.7 %|76.7 %|\n",
    "| Recall_0 |95.2 %|95.2 %|\n",
    "| Recall_1 | 86.8 % | 86.8 %|"
   ]
  }
 ],
 "metadata": {
  "kernelspec": {
   "display_name": "Python 3",
   "language": "python",
   "name": "python3"
  },
  "language_info": {
   "codemirror_mode": {
    "name": "ipython",
    "version": 3
   },
   "file_extension": ".py",
   "mimetype": "text/x-python",
   "name": "python",
   "nbconvert_exporter": "python",
   "pygments_lexer": "ipython3",
   "version": "3.11.3"
  }
 },
 "nbformat": 4,
 "nbformat_minor": 2
}
