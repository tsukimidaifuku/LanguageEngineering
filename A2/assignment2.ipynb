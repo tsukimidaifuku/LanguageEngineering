{
 "cells": [
  {
   "cell_type": "markdown",
   "metadata": {},
   "source": [
    "# Assignment 2"
   ]
  },
  {
   "cell_type": "markdown",
   "metadata": {},
   "source": [
    "## 1"
   ]
  },
  {
   "cell_type": "markdown",
   "metadata": {},
   "source": [
    "output `small_model.txt`:\n",
    "```\n",
    "11 19 \n",
    "0 i 3 \n",
    "1 live 1\n",
    "2 in 1\n",
    "3 boston 1\n",
    "4 . 3\n",
    "5 like 3\n",
    "6 ants 2\n",
    "7 honey 2\n",
    "8 therefore 1\n",
    "9 too 1\n",
    "10 ! 1\n",
    "0 1 -1.098612288668110\n",
    "0 5 -0.405465108108164\n",
    "1 2 0.000000000000000\n",
    "2 3 0.000000000000000\n",
    "3 4 0.000000000000000\n",
    "4 0 -1.098612288668110\n",
    "4 6 -1.098612288668110\n",
    "4 8 -1.098612288668110\n",
    "5 6 -1.098612288668110\n",
    "5 7 -0.405465108108164\n",
    "6 4 -0.693147180559945\n",
    "6 5 -0.693147180559945\n",
    "7 4 -0.693147180559945\n",
    "7 9 -0.693147180559945\n",
    "8 0 0.000000000000000\n",
    "9 10 0.000000000000000\n",
    "-1\n",
    "```"
   ]
  },
  {
   "cell_type": "markdown",
   "metadata": {},
   "source": [
    "\n",
    "\n",
    "bigram probability should be written as:\n",
    "\n",
    "$ P(w_i | w_{i-1}) = \\dfrac{c(w_{i-1}, w_{i})}{c(w_{i-1})}$"
   ]
  },
  {
   "cell_type": "markdown",
   "metadata": {},
   "source": [
    "# 2"
   ]
  },
  {
   "cell_type": "markdown",
   "metadata": {},
   "source": [
    "Running `Generator.py`\n",
    "\n",
    "`python .\\Generator.py -f .\\kafka_model.txt -s i -n 7`"
   ]
  },
  {
   "cell_type": "markdown",
   "metadata": {},
   "source": [
    "Output:\n",
    "\n",
    "`i ca n't eat . now and ,`"
   ]
  },
  {
   "cell_type": "markdown",
   "metadata": {},
   "source": [
    "Or,\n",
    "\n",
    "`python .\\Generator.py -f kafka_model.txt -s dog -n 5`\n",
    "\n",
    "Output:\n",
    "\n",
    "`dog copy out again ! grete`"
   ]
  },
  {
   "cell_type": "markdown",
   "metadata": {},
   "source": [
    "# 3"
   ]
  },
  {
   "cell_type": "markdown",
   "metadata": {},
   "source": [
    "## (a)\n",
    "\n",
    "running `run_tester_small_kafka.bat`"
   ]
  },
  {
   "cell_type": "markdown",
   "metadata": {},
   "source": [
    "I got the output:\n",
    "\n",
    "`Read 24944 words. Estimated entropy: 13.46`\n",
    "\n",
    "--\n",
    "\n",
    "the file `entropy_small_kafka.txt`\n",
    "\n",
    "`Read 24944 words. Estimated entropy: 13.46`"
   ]
  },
  {
   "cell_type": "markdown",
   "metadata": {},
   "source": [
    "running `run_tester_kafka_small.bat`\n",
    "\n"
   ]
  },
  {
   "cell_type": "markdown",
   "metadata": {},
   "source": [
    "I got the output:\n",
    "\n",
    "`Read 19 words. Estimated entropy: 10.29`\n",
    "\n",
    "--\n",
    "\n",
    "the file `entropy_kafka_small.txt`\n",
    "\n",
    "`Read 19 words. Estimated entropy: 10.29`"
   ]
  },
  {
   "cell_type": "markdown",
   "metadata": {},
   "source": [
    "## (b)"
   ]
  },
  {
   "cell_type": "markdown",
   "metadata": {},
   "source": [
    "*`run_tester_austen_austen.bat`*\n",
    "\n",
    "I got the output:\n",
    "\n",
    "`Read 10738 words. Estimated entropy: 6.97`"
   ]
  },
  {
   "cell_type": "markdown",
   "metadata": {},
   "source": [
    "*`-f austin_model -t guardian_test`*\n",
    "\n",
    "I got the output:\n",
    "\n",
    "`Read 871878 words. Estimated entropy: 9.75`"
   ]
  },
  {
   "cell_type": "markdown",
   "metadata": {},
   "source": [
    "*`run_tester_guardian_guardian.bat`*\n",
    "\n",
    "I got the output:\n",
    "\n",
    "`Read 871878 words. Estimated entropy: 6.62`"
   ]
  },
  {
   "cell_type": "markdown",
   "metadata": {},
   "source": [
    "*`-f guarfian_model -t austen_test`*\n",
    "\n",
    "I got the output:\n",
    "\n",
    "`Read 10738 words. Estimated entropy: 6.56`"
   ]
  },
  {
   "cell_type": "markdown",
   "metadata": {},
   "source": [
    "=="
   ]
  },
  {
   "cell_type": "markdown",
   "metadata": {},
   "source": [
    "To evaluate these two models, austen and guardian, I ran *`run_tester_austen_kafka.bat`* and *`-f guardian_model -t kafka`*.\n",
    "\n",
    "I got the output for former one as: `Read 24944 words. Estimated entropy: 7.36`\n",
    "\n",
    "the latter one as: `Read 24944 words. Estimated entropy: 6.04`\n",
    "\n",
    "As these results (including the result of austen_test, guardian_test), we can draw a conclusion that **guardian_model is better than austen_model** because of *\"The lower the entropy of the test corpus, the better the language model learned from the training corpus.\"*"
   ]
  },
  {
   "cell_type": "markdown",
   "metadata": {},
   "source": [
    "# 4"
   ]
  },
  {
   "cell_type": "markdown",
   "metadata": {},
   "source": [
    "## (a)(b)(e)\n",
    "\n",
    "I don't know why but the code doesn't work for the batch_gradient_descent.\n",
    "\n",
    "result I got is\n",
    "\n",
    "`84710 15288`\n",
    "\n",
    "`0  0`"
   ]
  },
  {
   "cell_type": "markdown",
   "metadata": {},
   "source": [
    "## (c) (e)"
   ]
  },
  {
   "cell_type": "markdown",
   "metadata": {},
   "source": [
    "<img src=\"./fig/sto_gd.png\" width=\"500\">"
   ]
  },
  {
   "cell_type": "markdown",
   "metadata": {},
   "source": [
    "**Result:**\n",
    "\n",
    "\n",
    "`83831 3242`\n",
    "\n",
    "`879 12046`\n",
    "\n",
    "Accuracy: 95.9% (95877/99998)\n",
    "\n",
    "Recall(0): 99.0% (83831/ 83831+879)\n",
    "\n",
    "Recall(1): 78.8%\n",
    "\n",
    "Precision(0): 96.3% (83831/ 83831+3242)\n",
    "\n",
    "Precision(1): 93.2%"
   ]
  },
  {
   "cell_type": "markdown",
   "metadata": {},
   "source": [
    "## (d) (e)\n",
    "\n",
    "**Result**\n",
    "\n",
    "`81452 14014`\n",
    "\n",
    "`3258 1274`\n",
    "\n",
    "Accuracy: 82.7 %\n",
    "\n",
    "Recall(0): 96.2 %\n",
    "\n",
    "Recall(1): 91.7%\n",
    "\n",
    "Precision(0): 85.3 %\n",
    "\n",
    "Precision(1): 71.9 %"
   ]
  }
 ],
 "metadata": {
  "kernelspec": {
   "display_name": "Python 3",
   "language": "python",
   "name": "python3"
  },
  "language_info": {
   "name": "python",
   "version": "3.11.3"
  }
 },
 "nbformat": 4,
 "nbformat_minor": 2
}
