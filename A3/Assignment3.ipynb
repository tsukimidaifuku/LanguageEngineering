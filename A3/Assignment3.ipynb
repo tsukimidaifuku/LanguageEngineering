{
 "cells": [
  {
   "cell_type": "markdown",
   "metadata": {},
   "source": [
    "# Assignment 3"
   ]
  },
  {
   "cell_type": "markdown",
   "metadata": {},
   "source": [
    "## 1 (Random Indexing)"
   ]
  },
  {
   "cell_type": "markdown",
   "metadata": {},
   "source": [
    "### 1-3\n",
    "\n",
    "**What similarity metrics can you use in your algorithm?**\n",
    "\n",
    "Cosine similarity (What I used here), euclid distance, manhattan distance"
   ]
  },
  {
   "cell_type": "markdown",
   "metadata": {},
   "source": [
    "**Which one would you prefer to use? Why?**\n",
    "\n",
    "I prefer to use **cosine similarity**. Cosine similarity is the metric that normalize the length of vectors and only affected by the angle between two.\n",
    "For NLP, the direction of vector reflects the word's meaning, so we should use cosine similarity if we want to compare the meanings."
   ]
  },
  {
   "cell_type": "markdown",
   "metadata": {},
   "source": [
    "**Resluts (k=5, dim=2000, non_zero=100, left_window=3, right_window=3)**\n",
    "```\n",
    "Neighbors for Harry: [('Harry', 0.0), ('Hagrid', 0.061), ('Snape', 0.073), ('Sirius', 0.077), ('Dumbledore', 0.078)]\n",
    "\n",
    "Neighbors for Gryffindor: [('Gryffindor', 0.0), ('Slytherin', 0.087), ('house', 0.115), ('school', 0.126), ('library', 0.136)]\n",
    "\n",
    "Neighbors for chair: [('chair', 0.0), ('seat', 0.057), ('cauldron', 0.106), ('bag', 0.116), ('hand', 0.116)]\n",
    "\n",
    "Neighbors for wand: [('wand', 0.0), ('head', 0.06), ('hand', 0.064), ('eyes', 0.08), ('face', 0.084)]\n",
    "\n",
    "Neighbors for good: [('good', 0.0), ('such', 0.129), ('bad', 0.137), ('little', 0.138), ('long', 0.14)]\n",
    "\n",
    "Neighbors for enter: [('enter', 0.0), ('leave', 0.112), ('break', 0.127), ('take', 0.129), ('use', 0.131)]\n",
    "\n",
    "Neighbors for on: [('on', 0.0), ('in', 0.031), ('from', 0.031), ('into', 0.037), ('over', 0.044)]\n",
    "\n",
    "Neighbors for school: [('school', 0.0), ('house', 0.061), ('castle', 0.07), ('point', 0.071), ('way', 0.08)]\n",
    "```"
   ]
  },
  {
   "cell_type": "markdown",
   "metadata": {},
   "source": [
    "### Change dimension (d=10, non_zero=8)"
   ]
  },
  {
   "cell_type": "markdown",
   "metadata": {},
   "source": [
    "```\n",
    "Neighbors for Harry: [('Harry', 0.0), ('further', 0.046), ('gouge', 0.052), ('Then', 0.053), ('but', 0.055)]\n",
    "\n",
    "Neighbors for Gryffindor: [('Gryffindor', 0.0), ('blade', 0.01), ('station', 0.015), ('water', 0.016), ('letter', 0.017)]\n",
    "\n",
    "Neighbors for chair: [('chair', 0.0), ('midst', 0.033), ('crook', 0.035), ('car', 0.041), ('clasp', 0.042)]\n",
    "\n",
    "Neighbors for wand: [('wand', 0.0), ('dropping', 0.051), ('pie', 0.052), ('gripped', 0.057), ('trousers', 0.057)]\n",
    "\n",
    "Neighbors for good: [('good', 0.0), ('savingpeople', 0.031), ('EATERS', 0.043), ('CREATURES', 0.052), ('such', 0.052)]\n",
    "\n",
    "Neighbors for enter: [('enter', 0.0), ('hear', 0.016), ('say', 0.038), ('see', 0.047), ('need', 0.052)]\n",
    "\n",
    "Neighbors for on: [('on', 0.0), ('grey', 0.026), ('gates', 0.028), ('forefront', 0.033), ('tip', 0.034)]\n",
    "\n",
    "Neighbors for school: [('school', 0.0), ('bed', 0.012), ('shrank', 0.019), ('words', 0.024), ('tapestry', 0.026)]\n",
    "```"
   ]
  },
  {
   "cell_type": "markdown",
   "metadata": {},
   "source": [
    "I got cleary worse result than the first one. dim=10 is too small to consist word's meaning."
   ]
  },
  {
   "cell_type": "markdown",
   "metadata": {},
   "source": [
    "### Change Window Size(left=0, right=0)"
   ]
  },
  {
   "cell_type": "markdown",
   "metadata": {},
   "source": [
    "```\n",
    "Neighbors for Harry: [('gorsecovered', 1.0), ('inadvisable', 1.0), ('inspections', 1.0), ('bottommost', 1.0), ('Bee', 1.0)]\n",
    "\n",
    "Neighbors for Gryffindor: [('gorsecovered', 1.0), ('inadvisable', 1.0), ('inspections', 1.0), ('bottommost', 1.0), ('Bee', 1.0)]\n",
    "\n",
    "Neighbors for chair: [('gorsecovered', 1.0), ('inadvisable', 1.0), ('inspections', 1.0), ('bottommost', 1.0), ('Bee', 1.0)]\n",
    "```"
   ]
  },
  {
   "cell_type": "markdown",
   "metadata": {},
   "source": [
    "Of course, this doesn't make any sense because this result is based on only initial condition, which consists randomly."
   ]
  },
  {
   "cell_type": "markdown",
   "metadata": {},
   "source": [
    "### Change Window Size (left=10, right=10)"
   ]
  },
  {
   "cell_type": "markdown",
   "metadata": {},
   "source": [
    "```\n",
    "Neighbors for Harry: [('Harry', 0.0), ('now', 0.03), ('he', 0.031), ('Snape', 0.032), ('with', 0.033)]\n",
    "\n",
    "Neighbors for Gryffindor: [('Gryffindor', 0.0), ('Slytherin', 0.04), ('house', 0.042), ('school', 0.047), ('place', 0.049)]\n",
    "\n",
    "Neighbors for chair: [('chair', 0.0), ('seat', 0.035), ('hand', 0.043), ('dropped', 0.043), ('over', 0.046)]\n",
    "\n",
    "Neighbors for wand: [('wand', 0.0), ('hand', 0.021), ('head', 0.025), ('face', 0.033), ('eyes', 0.033)]\n",
    "\n",
    "Neighbors for good: [('good', 0.0), ('like', 0.044), ('very', 0.051), ('big', 0.053), ('funny', 0.058)]\n",
    "\n",
    "Neighbors for enter: [('enter', 0.0), ('take', 0.074), ('leave', 0.076), ('break', 0.09), ('be', 0.091)]\n",
    "\n",
    "Neighbors for on: [('on', 0.0), ('in', 0.007), ('from', 0.008), ('over', 0.011), ('and', 0.012)]\n",
    "\n",
    "Neighbors for school: [('school', 0.0), ('house', 0.027), ('place', 0.03), ('last', 0.032), ('first', 0.033)]\n",
    "```"
   ]
  },
  {
   "cell_type": "markdown",
   "metadata": {},
   "source": [
    "Not that bad result, but the first one (left, right=3) is way better. Large window size leads to include words that doesn't relate to the focus word."
   ]
  },
  {
   "cell_type": "markdown",
   "metadata": {},
   "source": [
    "### Change Window Size (left=3, right=10)"
   ]
  },
  {
   "cell_type": "markdown",
   "metadata": {},
   "source": [
    "```\n",
    "Neighbors for Harry: [('Harry', 0.0), ('he', 0.038), ('He', 0.039), ('Snape', 0.04), ('Hagrid', 0.043)]\n",
    "\n",
    "Neighbors for Gryffindor: [('Gryffindor', 0.0), ('Slytherin', 0.055), ('house', 0.066), ('school', 0.071), ('place', 0.08)]\n",
    "\n",
    "Neighbors for chair: [('chair', 0.0), ('seat', 0.045), ('hand', 0.066), ('with', 0.07), ('cauldron', 0.074)]\n",
    "\n",
    "Neighbors for wand: [('wand', 0.0), ('hand', 0.035), ('head', 0.046), ('eyes', 0.053), ('nose', 0.054)]\n",
    "\n",
    "Neighbors for good: [('good', 0.0), ('like', 0.074), ('big', 0.076), ('very', 0.079), ('bad', 0.082)]\n",
    "\n",
    "Neighbors for enter: [('enter', 0.0), ('leave', 0.085), ('take', 0.087), ('use', 0.105), ('break', 0.107)]\n",
    "\n",
    "Neighbors for on: [('on', 0.0), ('in', 0.013), ('from', 0.014), ('over', 0.018), ('into', 0.023)]\n",
    "\n",
    "Neighbors for school: [('school', 0.0), ('last', 0.04), ('house', 0.041), ('point', 0.046), ('first', 0.046)]\n",
    "```"
   ]
  },
  {
   "cell_type": "markdown",
   "metadata": {},
   "source": [
    "### Change Window Size (left=0, right=3)"
   ]
  },
  {
   "cell_type": "markdown",
   "metadata": {},
   "source": [
    "```\n",
    "Neighbors for Harry: [('Harry', 0.0), ('Snape', 0.104), ('Weasley', 0.111), ('Hagrid', 0.113), ('Lupin', 0.114)]\n",
    "\n",
    "Neighbors for Gryffindor: [('Gryffindor', 0.0), ('Slytherin', 0.227), ('Ravenclaw', 0.293), ('Hufflepuff', 0.357), ('house', 0.401)]\n",
    "\n",
    "Neighbors for chair: [('chair', 0.0), ('head', 0.106), ('table', 0.108), ('wand', 0.109), ('seat', 0.115)]\n",
    "\n",
    "Neighbors for wand: [('wand', 0.0), ('head', 0.095), ('hand', 0.101), ('window', 0.105), ('seat', 0.108)]\n",
    "\n",
    "Neighbors for good: [('good', 0.0), ('here', 0.135), ('me', 0.137), ('right', 0.154), ('us', 0.173)]\n",
    "\n",
    "Neighbors for enter: [('enter', 0.0), ('from', 0.167), ('through', 0.167), ('entering', 0.173), ('on', 0.174)]\n",
    "\n",
    "Neighbors for on: [('on', 0.0), ('from', 0.021), ('off', 0.039), ('over', 0.04), ('of', 0.042)]\n",
    "\n",
    "Neighbors for school: [('school', 0.0), ('again', 0.13), ('house', 0.148), ('now', 0.161), ('Hogwarts', 0.162)]\n",
    "```"
   ]
  },
  {
   "cell_type": "markdown",
   "metadata": {},
   "source": [
    "This window size seems better for proper nouns. Results of Harry and Gryffindor look good."
   ]
  },
  {
   "cell_type": "markdown",
   "metadata": {},
   "source": [
    "## 2 (Word2Vec)"
   ]
  },
  {
   "cell_type": "markdown",
   "metadata": {},
   "source": [
    "### Result (only 1st book)"
   ]
  },
  {
   "cell_type": "markdown",
   "metadata": {},
   "source": [
    "```\n",
    "Neighbors for Harry: [('Harry', 0.0), ('taking', 0.217), ('Yeah', 0.227), ('quickly', 0.245), ('Ron', 0.247)]\n",
    "\n",
    "Neighbors for Gryffindor: [('Gryffindor', 0.0), ('Alley', 0.266), ('meant', 0.275), ('faster', 0.303), ('jump', 0.306)]\n",
    "\n",
    "Neighbors for chair: [('chair', 0.0), ('lap', 0.229), ('slid', 0.234), ('rolled', 0.239), ('sofa', 0.245)]\n",
    "\n",
    "Neighbors for wand: [('wand', 0.0), ('hand', 0.14), ('fingers', 0.233), ('broom', 0.235), ('stuck', 0.242)]\n",
    "\n",
    "Neighbors for good: [('good', 0.0), ('reason', 0.202), ('knight', 0.221), ('minute', 0.239), ('doing', 0.246)]\n",
    "\n",
    "Neighbors for enter: [('enter', 0.0), ('favorite', 0.265), ('Britain', 0.272), ('pure', 0.285), ('plan', 0.287)]\n",
    "\n",
    "Neighbors for on: [('on', 0.0), ('along', 0.268), ('red', 0.27), ('plan', 0.299), ('Harrys', 0.305)]\n",
    "\n",
    "Neighbors for school: [('school', 0.0), ('direction', 0.166), ('street', 0.184), ('mail', 0.206), ('foot', 0.206)]\n",
    "```"
   ]
  },
  {
   "cell_type": "markdown",
   "metadata": {},
   "source": [
    "I used much smaller data than what I used for RandomIndex to train, so RI seems better for here."
   ]
  },
  {
   "cell_type": "markdown",
   "metadata": {},
   "source": [
    "### Result (trained by 1st and 2nd book)"
   ]
  },
  {
   "cell_type": "markdown",
   "metadata": {},
   "source": [
    "```\n",
    "Neighbors for Harry: [('Harry', 0.0), ('he', 0.183), ('Ron', 0.194), ('quickly', 0.202), ('Malfoy', 0.23)]\n",
    "\n",
    "Neighbors for Gryffindor: [('Gryffindor', 0.0), ('Slytherin', 0.226), ('ourselves', 0.254), ('goin', 0.283), ('common', 0.285)]\n",
    "\n",
    "Neighbors for chair: [('chair', 0.0), ('yell', 0.179), ('desk', 0.191), ('turban', 0.2), ('muddy', 0.204)]\n",
    "\n",
    "Neighbors for wand: [('wand', 0.0), ('arm', 0.214), ('pocket', 0.232), ('poking', 0.248), ('disappeared', 0.255)]\n",
    "\n",
    "Neighbors for good: [('good', 0.0), ('bad', 0.16), ('gets', 0.186), ('ago', 0.202), ('reason', 0.205)]\n",
    "\n",
    "Neighbors for enter: [('enter', 0.0), ('fireplace', 0.199), ('edge', 0.199), ('suspend', 0.204), ('lent', 0.211)]\n",
    "\n",
    "Neighbors for on: [('on', 0.0), ('onto', 0.261), ('Tonight', 0.277), ('His', 0.292), ('resting', 0.298)]\n",
    "\n",
    "Neighbors for school: [('school', 0.0), ('rules', 0.213), ('Everyone', 0.221), ('fun', 0.241), ('hungry', 0.242)]\n",
    "```"
   ]
  },
  {
   "cell_type": "markdown",
   "metadata": {},
   "source": [
    "Result got better than the former one, even though RI seems better."
   ]
  },
  {
   "cell_type": "markdown",
   "metadata": {},
   "source": [
    "### Result (trained by 1st book, epochs=10)"
   ]
  },
  {
   "cell_type": "markdown",
   "metadata": {},
   "source": [
    "```\n",
    "Neighbors for Harry: [('Harry', 0.0), ('Ron', 0.239), ('aside', 0.261), ('guard', 0.263), ('Youve', 0.265)]\n",
    "\n",
    "Neighbors for Gryffindor: [('Gryffindor', 0.0), ('points', 0.29), ('house', 0.291), ('fifty', 0.316), ('H', 0.321)]\n",
    "\n",
    "Neighbors for chair: [('chair', 0.0), ('needles', 0.234), ('echoes', 0.25), ('ropes', 0.256), ('paced', 0.265)]\n",
    "\n",
    "Neighbors for wand: [('wand', 0.0), ('mercy', 0.26), ('plate', 0.307), ('scratching', 0.313), ('icy', 0.318)]\n",
    "\n",
    "Neighbors for good: [('good', 0.0), ('interfere', 0.261), ('delight', 0.27), ('werewolf', 0.277), ('pretty', 0.284)]\n",
    "\n",
    "Neighbors for enter: [('enter', 0.0), ('lawns', 0.281), ('shrunk', 0.282), ('Really', 0.289), ('boarded', 0.297)]\n",
    "\n",
    "Neighbors for on: [('on', 0.0), ('doorpost', 0.324), ('crooked', 0.331), ('weekly', 0.334), ('pajamas', 0.343)]\n",
    "\n",
    "Neighbors for school: [('school', 0.0), ('journey', 0.193), ('quicker', 0.287), ('point', 0.308), ('yesterday', 0.324)]\n",
    "```"
   ]
  },
  {
   "cell_type": "markdown",
   "metadata": {},
   "source": [
    "I think it should be improved but there seems no improvement from epochs=5. "
   ]
  },
  {
   "cell_type": "markdown",
   "metadata": {},
   "source": [
    "### Result (trained by 1st book, using regular unigram distribution)"
   ]
  },
  {
   "cell_type": "markdown",
   "metadata": {},
   "source": [
    "```\n",
    "Neighbors for Harry: [('Harry', 0.0), ('Ron', 0.179), ('Hagrid', 0.206), ('she', 0.209), ('quickly', 0.215)]\n",
    "\n",
    "Neighbors for Gryffindor: [('Gryffindor', 0.0), ('house', 0.222), ('continue', 0.274), ('Quidditch', 0.301), ('especially', 0.303)]        \n",
    "\n",
    "Neighbors for chair: [('chair', 0.0), ('fall', 0.202), ('notes', 0.207), ('raising', 0.218), ('study', 0.22)]\n",
    "\n",
    "Neighbors for wand: [('wand', 0.0), ('Theyre', 0.183), ('hand', 0.201), ('trembling', 0.217), ('turning', 0.22)]\n",
    "\n",
    "Neighbors for good: [('good', 0.0), ('stupid', 0.215), ('reason', 0.231), ('sign', 0.231), ('difficult', 0.258)]\n",
    "\n",
    "Neighbors for enter: [('enter', 0.0), ('BodyBind', 0.257), ('goin', 0.28), ('sea', 0.285), ('book', 0.286)]\n",
    "\n",
    "Neighbors for on: [('on', 0.0), ('eye', 0.257), ('over', 0.298), ('Midnight', 0.303), ('advice', 0.303)]\n",
    "\n",
    "Neighbors for school: [('school', 0.0), ('blankets', 0.253), ('ones', 0.253), ('corner', 0.255), ('entrance', 0.26)]\n",
    "```"
   ]
  },
  {
   "cell_type": "markdown",
   "metadata": {},
   "source": [
    "I have no idea why, but using regular unigram distribution seems better for proper nouns. Results of Harry and Gryffindor look good."
   ]
  },
  {
   "cell_type": "markdown",
   "metadata": {},
   "source": [
    "**Compare your word2vec embeddings with your Random Indexing embeddings. Which ones would you use in practice?**\n",
    "\n",
    "If I have large data and high computation resource, I would choose w2v embeddings. If not I should choose RI in practice."
   ]
  },
  {
   "cell_type": "markdown",
   "metadata": {},
   "source": [
    "## 3 (NER)"
   ]
  },
  {
   "cell_type": "markdown",
   "metadata": {},
   "source": [
    "### Word2Vec"
   ]
  },
  {
   "cell_type": "markdown",
   "metadata": {},
   "source": [
    "I used batch gradient descent (looped for 50 times)"
   ]
  },
  {
   "cell_type": "markdown",
   "metadata": {},
   "source": [
    "**Real vs Predicted**\n",
    "\n",
    "|   |  0  |  1  |\n",
    "|---|-----|-----|\n",
    "| 0 |66140|15082| \n",
    "| 1 |18570| 206 |"
   ]
  },
  {
   "cell_type": "markdown",
   "metadata": {},
   "source": [
    "<img src=\"./fig/fig_w2v.png\" width=\"500\">"
   ]
  },
  {
   "cell_type": "code",
   "execution_count": 1,
   "metadata": {},
   "outputs": [
    {
     "name": "stdout",
     "output_type": "stream",
     "text": [
      "accuracy:  0.6634732694653893\n",
      "precision_0:  0.8143113934648248\n",
      "precision_1:  0.010971452918619515\n",
      "recall_0:  0.7807814897886908\n",
      "recall_1:  0.01347462061747776\n"
     ]
    }
   ],
   "source": [
    "total = 66140 + 15082 + 18570 +206\n",
    "\n",
    "accuracy = (66140 + 206) / total\n",
    "pre_0 = 66140 / (66140 + 15082)\n",
    "pre_1 = 206 / (206 + 18570)\n",
    "recall_0 = 66140 / (66140 + 18570)\n",
    "recall_1 = 206 / (206 + 15082)\n",
    "\n",
    "print(\"accuracy: \", accuracy)\n",
    "print(\"precision_0: \", pre_0)\n",
    "print(\"precision_1: \", pre_1)\n",
    "print(\"recall_0: \", recall_0)\n",
    "print(\"recall_1: \", recall_1)"
   ]
  },
  {
   "cell_type": "markdown",
   "metadata": {},
   "source": [
    "**Accuracy, Precision, Recall**\n",
    "\n",
    "|   |    |\n",
    "|---|-----|\n",
    "| Accuracy |66.3 %|\n",
    "| Precision_0 |81.4 %|\n",
    "| Precision_1 | 1.1 % |\n",
    "| Recall_0 |78.1 %|\n",
    "| Recall_1 |1.3 % |"
   ]
  },
  {
   "cell_type": "markdown",
   "metadata": {},
   "source": [
    "### Random Indexing"
   ]
  },
  {
   "cell_type": "markdown",
   "metadata": {},
   "source": [
    "I used batch gradient descent (looped for 50 times)"
   ]
  },
  {
   "cell_type": "markdown",
   "metadata": {},
   "source": [
    "**Real vs Predicted**\n",
    "\n",
    "|   |  0  |  1  |\n",
    "|---|-----|-----|\n",
    "| 0 |83218|15224| \n",
    "| 1 |1492|64  |"
   ]
  },
  {
   "cell_type": "markdown",
   "metadata": {},
   "source": [
    "<img src=\"./fig/fig_ri.png\" width=\"500\">"
   ]
  },
  {
   "cell_type": "code",
   "execution_count": 5,
   "metadata": {},
   "outputs": [
    {
     "name": "stdout",
     "output_type": "stream",
     "text": [
      "accuracy:  0.8328366567331347\n",
      "precision_0:  0.8453505617520977\n",
      "precision_1:  0.04113110539845758\n",
      "recall_0:  0.9823869673002007\n",
      "recall_1:  0.004186289900575615\n"
     ]
    }
   ],
   "source": [
    "total = 83218 + 15224 + 1492 + 64\n",
    "\n",
    "accuracy = (83218 + 64) / total\n",
    "recall_0 = 83218 / (83218 + 1492)\n",
    "recall_1 = 64 / (64 + 15224)\n",
    "pre_0 = 83218 / (83218 + 15224)\n",
    "pre_1 = 64 / (64 + 1492)\n",
    "\n",
    "print(\"accuracy: \", accuracy)\n",
    "print(\"precision_0: \", pre_0)\n",
    "print(\"precision_1: \", pre_1)\n",
    "print(\"recall_0: \", recall_0)\n",
    "print(\"recall_1: \", recall_1)"
   ]
  },
  {
   "cell_type": "markdown",
   "metadata": {},
   "source": [
    "**Accuracy, Precision, Recall**\n",
    "\n",
    "|   |    |\n",
    "|---|-----|\n",
    "| Accuracy |83.3 %|\n",
    "| Precision_0 |84.5 %|\n",
    "| Precision_1 | 4.1 % |\n",
    "| Recall_0 |98.2 %|\n",
    "| Recall_1 |0.4 % |"
   ]
  },
  {
   "cell_type": "markdown",
   "metadata": {},
   "source": [
    "**Conclusion**\n",
    "\n",
    "Word vector needs a lot of features to represent the word. However for binary logistic regression, there is the curse of dimension. Therefore maybe number of features for word vectors are too much to use BLR and got worse result than BLR with 2 features in asg2.\n",
    "\n",
    "But here, I iterated only for 50 times due to my computation resource so word vector might be useful for NER."
   ]
  },
  {
   "cell_type": "markdown",
   "metadata": {},
   "source": [
    "### Random Indexing (SGD)"
   ]
  },
  {
   "cell_type": "markdown",
   "metadata": {},
   "source": [
    "I used Stochastic Gradient Descent. 10000 loops for a epoch, and I trained for 100 epochs."
   ]
  },
  {
   "cell_type": "markdown",
   "metadata": {},
   "source": [
    "**Real vs Predicted**\n",
    "\n",
    "|   |  0  |  1  |\n",
    "|---|-----|-----|\n",
    "| 0 |84699|15126| \n",
    "| 1 |11|162  |"
   ]
  },
  {
   "cell_type": "markdown",
   "metadata": {},
   "source": [
    "<img src=\"./fig/fig_ri_sdg.png\" width=\"500\">"
   ]
  },
  {
   "cell_type": "code",
   "execution_count": 4,
   "metadata": {},
   "outputs": [
    {
     "name": "stdout",
     "output_type": "stream",
     "text": [
      "accuracy:  0.8486269725394507\n",
      "precision_0:  0.8484748309541698\n",
      "precision_1:  0.9364161849710982\n",
      "recall_0:  0.9998701452012749\n",
      "recall_1:  0.010596546310832025\n"
     ]
    }
   ],
   "source": [
    "total = 84699 + 15126 + 11 + 162\n",
    "\n",
    "accuracy = (84699 + 162) / total\n",
    "pre_0 = 84699 / (84699 + 15126)\n",
    "pre_1 = 162 / (162 + 11)\n",
    "recall_0 = 84699 / (84699 + 11)\n",
    "recall_1 = 162 / (162 + 15126)\n",
    "\n",
    "print(\"accuracy: \", accuracy)\n",
    "print(\"precision_0: \", pre_0)\n",
    "print(\"precision_1: \", pre_1)\n",
    "print(\"recall_0: \", recall_0)\n",
    "print(\"recall_1: \", recall_1)"
   ]
  },
  {
   "cell_type": "markdown",
   "metadata": {},
   "source": [
    "**Accuracy, Precision, Recall**\n",
    "\n",
    "|   |    |\n",
    "|---|-----|\n",
    "| Accuracy |84.9 %|\n",
    "| Precision_0 |84.5 %|\n",
    "| Precision_1 | 93.6 % |\n",
    "| Recall_0 |99.99 %|\n",
    "| Recall_1 |1.1 % |"
   ]
  },
  {
   "cell_type": "code",
   "execution_count": 1,
   "metadata": {},
   "outputs": [
    {
     "data": {
      "text/plain": [
       "3.8947368421052633"
      ]
     },
     "execution_count": 1,
     "metadata": {},
     "output_type": "execute_result"
    }
   ],
   "source": [
    "(17 * 4 + 3 * 2)/19"
   ]
  }
 ],
 "metadata": {
  "kernelspec": {
   "display_name": "Python 3",
   "language": "python",
   "name": "python3"
  },
  "language_info": {
   "codemirror_mode": {
    "name": "ipython",
    "version": 3
   },
   "file_extension": ".py",
   "mimetype": "text/x-python",
   "name": "python",
   "nbconvert_exporter": "python",
   "pygments_lexer": "ipython3",
   "version": "3.11.3"
  }
 },
 "nbformat": 4,
 "nbformat_minor": 2
}
