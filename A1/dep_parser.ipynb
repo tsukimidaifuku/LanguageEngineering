{
 "cells": [
  {
   "cell_type": "code",
   "execution_count": 1,
   "metadata": {},
   "outputs": [],
   "source": [
    "from pathlib import Path\n",
    "from a01.DepParser.parse_dataset import Dataset\n",
    "import argparse"
   ]
  },
  {
   "cell_type": "code",
   "execution_count": 3,
   "metadata": {},
   "outputs": [],
   "source": [
    "def conllu(source):\n",
    "    buffer = []\n",
    "    for line in source:\n",
    "        line = line.rstrip()    # strip off the trailing newline\n",
    "        if not line.startswith(\"#\"):\n",
    "            if not line:\n",
    "                yield buffer\n",
    "                buffer = []\n",
    "            else:\n",
    "                columns = line.split(\"\\t\")\n",
    "                if columns[0].isdigit():    # skip range tokens\n",
    "                    buffer.append(columns)"
   ]
  },
  {
   "cell_type": "code",
   "execution_count": 17,
   "metadata": {},
   "outputs": [],
   "source": [
    "def trees(source):\n",
    "    \"\"\"\n",
    "    Reads trees from an input source.\n",
    "\n",
    "    Args: source: An iterable, such as a file pointer.\n",
    "\n",
    "    Yields: Triples of the form `words`, `tags`, heads where: `words`\n",
    "    is the list of words of the tree (including the pseudo-word\n",
    "    <ROOT> at position 0), `tags` is the list of corresponding\n",
    "    part-of-speech tags, and `heads` is the list of head indices\n",
    "    (one head index per word in the tree).\n",
    "    \"\"\"\n",
    "    for rows in conllu(source):\n",
    "        words = [\"<ROOT>\"] + [row[1] for row in rows]\n",
    "        tags = [\"<ROOT>\"] + [row[3] for row in rows]\n",
    "        tree = [0] + [int(row[6]) for row in rows]\n",
    "        relations = [\"root\"] + [row[7] for row in rows]\n",
    "        yield words, tags, tree, relations"
   ]
  },
  {
   "cell_type": "code",
   "execution_count": 21,
   "metadata": {},
   "outputs": [
    {
     "name": "stdout",
     "output_type": "stream",
     "text": [
      "(['<ROOT>', 'From', 'the', 'AP', 'comes', 'this', 'story', ':'], ['<ROOT>', 'ADP', 'DET', 'PROPN', 'VERB', 'DET', 'NOUN', 'PUNCT'], [0, 3, 3, 4, 0, 6, 4, 4], ['root', 'case', 'det', 'nmod', 'root', 'det', 'nsubj', 'punct'])\n"
     ]
    },
    {
     "data": {
      "text/plain": [
       "(['<ROOT>',\n",
       "  'President',\n",
       "  'Bush',\n",
       "  'on',\n",
       "  'Tuesday',\n",
       "  'nominated',\n",
       "  'two',\n",
       "  'individuals',\n",
       "  'to',\n",
       "  'replace',\n",
       "  'retiring',\n",
       "  'jurists',\n",
       "  'on',\n",
       "  'federal',\n",
       "  'courts',\n",
       "  'in',\n",
       "  'the',\n",
       "  'Washington',\n",
       "  'area',\n",
       "  '.'],\n",
       " ['<ROOT>',\n",
       "  'PROPN',\n",
       "  'PROPN',\n",
       "  'ADP',\n",
       "  'PROPN',\n",
       "  'VERB',\n",
       "  'NUM',\n",
       "  'NOUN',\n",
       "  'PART',\n",
       "  'VERB',\n",
       "  'VERB',\n",
       "  'NOUN',\n",
       "  'ADP',\n",
       "  'ADJ',\n",
       "  'NOUN',\n",
       "  'ADP',\n",
       "  'DET',\n",
       "  'PROPN',\n",
       "  'NOUN',\n",
       "  'PUNCT'],\n",
       " [0, 2, 5, 4, 5, 0, 7, 5, 9, 5, 11, 9, 14, 14, 11, 18, 18, 18, 14, 5],\n",
       " ['root',\n",
       "  'compound',\n",
       "  'nsubj',\n",
       "  'case',\n",
       "  'nmod',\n",
       "  'root',\n",
       "  'nummod',\n",
       "  'dobj',\n",
       "  'mark',\n",
       "  'advcl',\n",
       "  'amod',\n",
       "  'dobj',\n",
       "  'case',\n",
       "  'amod',\n",
       "  'nmod',\n",
       "  'case',\n",
       "  'det',\n",
       "  'compound',\n",
       "  'nmod',\n",
       "  'punct'])"
      ]
     },
     "execution_count": 21,
     "metadata": {},
     "output_type": "execute_result"
    }
   ],
   "source": [
    "path = \"./a01/DepParser/en-ud-dev-projective.conllu\"\n",
    "\n",
    "words = trees(open(path))\n",
    "print(next(words))\n",
    "\n",
    "next(words)"
   ]
  },
  {
   "cell_type": "code",
   "execution_count": null,
   "metadata": {},
   "outputs": [],
   "source": [
    "SH, LA, RA = 0,1,2\n",
    "\n",
    "def step_by_step(self,string) :\n",
    "    \"\"\"\n",
    "    Parses a string and builds a dependency tree. In each step,\n",
    "    the user needs to input the move to be made.\n",
    "    \"\"\"\n",
    "    w = (\"<ROOT> \" + string).split()\n",
    "    i, stack, pred_tree = 0, [], [0]*len(w) # Input configuration\n",
    "    while True :\n",
    "        print( \"----------------\" )\n",
    "        print( \"Buffer: \", w[i:] )\n",
    "        print( \"Stack: \", [w[s] for s in stack] )\n",
    "        print( \"Predicted tree: \", pred_tree )\n",
    "        try :\n",
    "            ms = input( \"Move: (Shift,Left,Right): \" ).lower()[0]\n",
    "            m = SH if ms=='s' else LA if ms=='l' else RA if ms=='r' else -1\n",
    "            if m not in self.valid_moves(i,stack,pred_tree) :\n",
    "                print( \"Illegal move\" )\n",
    "                continue\n",
    "        except :\n",
    "            print( \"Illegal move\" )\n",
    "            continue\n",
    "        i, stack, pred_tree = self.move(i,stack,pred_tree,m)\n",
    "        if i == len(w) and stack == [0] :\n",
    "            # Terminal configuration\n",
    "            print( \"----------------\" )\n",
    "            print( \"Final predicted tree: \", pred_tree )\n",
    "            return"
   ]
  },
  {
   "cell_type": "code",
   "execution_count": 3,
   "metadata": {},
   "outputs": [
    {
     "data": {
      "text/plain": [
       "[]"
      ]
     },
     "execution_count": 3,
     "metadata": {},
     "output_type": "execute_result"
    }
   ],
   "source": [
    "w = \"John made the pie in the fridge\"\n",
    "\n",
    "w = (\"<ROOT> \" + w).split()\n",
    "\n",
    "stack = []\n",
    "[w[s] for s in stack]"
   ]
  },
  {
   "cell_type": "code",
   "execution_count": 14,
   "metadata": {},
   "outputs": [
    {
     "name": "stdout",
     "output_type": "stream",
     "text": [
      "0\n",
      "[]\n",
      "[0, 0, 0, 0, 0, 0, 0, 0]\n"
     ]
    }
   ],
   "source": [
    "w = \"John made the pie in the fridge\"\n",
    "w = (\"<ROOT> \" + w).split()\n",
    "\n",
    "i, stack, pred_tree = 0, [], [0]*len(w)\n",
    "\n",
    "print(i)\n",
    "print(stack)\n",
    "print(pred_tree)"
   ]
  },
  {
   "cell_type": "code",
   "execution_count": 15,
   "metadata": {},
   "outputs": [
    {
     "data": {
      "text/plain": [
       "[0, 1, 2]"
      ]
     },
     "execution_count": 15,
     "metadata": {},
     "output_type": "execute_result"
    }
   ],
   "source": [
    "stack.append(i)\n",
    "i += 1\n",
    "\n",
    "stack.append(i)\n",
    "i += 1\n",
    "\n",
    "stack.append(i)\n",
    "i += 1\n",
    "\n",
    "stack\n"
   ]
  },
  {
   "cell_type": "code",
   "execution_count": 16,
   "metadata": {},
   "outputs": [
    {
     "data": {
      "text/plain": [
       "['<ROOT>', 'John', 'made']"
      ]
     },
     "execution_count": 16,
     "metadata": {},
     "output_type": "execute_result"
    }
   ],
   "source": [
    "[w[s] for s in stack]"
   ]
  },
  {
   "cell_type": "code",
   "execution_count": 18,
   "metadata": {},
   "outputs": [
    {
     "data": {
      "text/plain": [
       "[0, 2, 0, 0, 0, 0, 0, 0]"
      ]
     },
     "execution_count": 18,
     "metadata": {},
     "output_type": "execute_result"
    }
   ],
   "source": [
    "pred_tree[stack[-2]] = stack[-1]\n",
    "stack.pop(-2)\n",
    "pred_tree\n"
   ]
  },
  {
   "cell_type": "code",
   "execution_count": 19,
   "metadata": {},
   "outputs": [],
   "source": [
    "stack.append(i)\n",
    "i += 1"
   ]
  },
  {
   "cell_type": "code",
   "execution_count": 20,
   "metadata": {},
   "outputs": [
    {
     "name": "stdout",
     "output_type": "stream",
     "text": [
      "['<ROOT>', 'made', 'the']\n",
      "[0, 2, 0, 2, 0, 0, 0, 0]\n"
     ]
    }
   ],
   "source": [
    "print([w[s] for s in stack])\n",
    "\n",
    "pred_tree[stack[-1]] = stack[-2]\n",
    "stack.pop(-1)\n",
    "\n",
    "print(pred_tree)"
   ]
  }
 ],
 "metadata": {
  "kernelspec": {
   "display_name": "Python 3",
   "language": "python",
   "name": "python3"
  },
  "language_info": {
   "codemirror_mode": {
    "name": "ipython",
    "version": 3
   },
   "file_extension": ".py",
   "mimetype": "text/x-python",
   "name": "python",
   "nbconvert_exporter": "python",
   "pygments_lexer": "ipython3",
   "version": "3.11.3"
  }
 },
 "nbformat": 4,
 "nbformat_minor": 2
}
