{
 "cells": [
  {
   "cell_type": "markdown",
   "metadata": {},
   "source": [
    "# \\# 1"
   ]
  },
  {
   "cell_type": "markdown",
   "metadata": {},
   "source": [
    "### Tree 1\n",
    "\n",
    "<img src=\"./fig/画像1.jpg\" width=\"600\">\n",
    "\n",
    "- built the box by using a hammer\n",
    "- WHERE IS THE HAMMER: in the yard\n",
    "- WHERE IS THE YARD: behind the house"
   ]
  },
  {
   "cell_type": "markdown",
   "metadata": {},
   "source": [
    "### Tree 2\n",
    "\n",
    "<img src=\"./fig/画像2.jpg\" width=\"600\">\n",
    "\n",
    "- He built the box with a hammer (box and hammer)\n",
    "- the hammer is in the yard.\n",
    "- the yard is behind the house"
   ]
  },
  {
   "cell_type": "markdown",
   "metadata": {},
   "source": [
    "### Tree 3\n",
    "\n",
    "<img src=\"./fig/fig2.jpg\" width=\"600\">\n",
    "\n",
    "- He built the box when he was in the yard.\n",
    "- the yard is behind the house."
   ]
  },
  {
   "cell_type": "markdown",
   "metadata": {},
   "source": [
    "### Tree 4\n",
    "\n",
    "<img src=\"./fig/fig3.jpg\" width=\"600\">\n",
    "\n",
    "- He built the box when he was in the some place behind the house.\n",
    "- the hammer was in the yard."
   ]
  },
  {
   "cell_type": "markdown",
   "metadata": {},
   "source": [
    "# \\# 2"
   ]
  },
  {
   "cell_type": "markdown",
   "metadata": {},
   "source": [
    "## 2-(a)"
   ]
  },
  {
   "cell_type": "markdown",
   "metadata": {},
   "source": [
    "- S → NP VP\n",
    "- NP → Det AN | Det Noun | Adj Noun\n",
    "- NP → faces | suspect | pressure\n",
    "- AN → Adj Noun\n",
    "- VP → V NP\n",
    "- Det → the\n",
    "- Noun → faces | suspect | pressure\n",
    "- Adj → increased | suspect\n",
    "- V → faces | increased "
   ]
  },
  {
   "cell_type": "markdown",
   "metadata": {},
   "source": [
    "## 2-(b)"
   ]
  },
  {
   "cell_type": "markdown",
   "metadata": {},
   "source": [
    "<img src=\"./fig/画像6.jpg\" width=\"500\">"
   ]
  },
  {
   "cell_type": "markdown",
   "metadata": {},
   "source": [
    "## 2-(c)"
   ]
  },
  {
   "cell_type": "markdown",
   "metadata": {},
   "source": [
    "### Tree 1 (S1)\n",
    "\n",
    "<img src=\"./fig/画像7.jpg\" width=\"500\">"
   ]
  },
  {
   "cell_type": "markdown",
   "metadata": {},
   "source": [
    "### Tree 2 (S2)\n",
    "\n",
    "<img src=\"./fig/画像9.jpg\" width=\"500\">"
   ]
  },
  {
   "cell_type": "markdown",
   "metadata": {},
   "source": [
    "# \\# 3"
   ]
  },
  {
   "cell_type": "markdown",
   "metadata": {},
   "source": [
    "## Question\n",
    "\n",
    "<img src=\"./fig/fig1.jpg\" width=\"500\">"
   ]
  },
  {
   "cell_type": "markdown",
   "metadata": {},
   "source": [
    "## Answer\n",
    "\n",
    "**(a)**\n",
    "- incorrect: 1\n",
    "- correction: invert 1\n",
    "\n",
    "**(b)**\n",
    "- incorrect: 2\n",
    "- correction: meeting => The\n",
    "\n",
    "**(c)**\n",
    "- incorrect: 3\n",
    "- correction: gave => book"
   ]
  },
  {
   "cell_type": "markdown",
   "metadata": {},
   "source": [
    "# \\# 4"
   ]
  },
  {
   "cell_type": "markdown",
   "metadata": {},
   "source": [
    "## Answer\n",
    "\n",
    "- 1: root\n",
    "- 2: nsubj\n",
    "- 3: amod\n",
    "- 4: det\n",
    "- 5: advmod\n",
    "- 6: obj\n",
    "- 7: det"
   ]
  },
  {
   "cell_type": "markdown",
   "metadata": {},
   "source": [
    "# \\# 5"
   ]
  },
  {
   "cell_type": "markdown",
   "metadata": {},
   "source": [
    "## 5-(a), (b)\n",
    "\n",
    "### ANSWER\n",
    "\n",
    "```\n",
    "----------------\n",
    "Buffer:  ['<ROOT>', 'John', 'made', 'the', 'pie', 'in', 'the', 'fridge']\n",
    "Stack:  []\n",
    "Predicted tree:  [0, 0, 0, 0, 0, 0, 0, 0]\n",
    "Move: (Shift,Left,Right): s\n",
    "----------------\n",
    "Buffer:  ['John', 'made', 'the', 'pie', 'in', 'the', 'fridge']\n",
    "Stack:  ['<ROOT>']\n",
    "Predicted tree:  [0, 0, 0, 0, 0, 0, 0, 0]\n",
    "Move: (Shift,Left,Right): s\n",
    "----------------\n",
    "Buffer:  ['made', 'the', 'pie', 'in', 'the', 'fridge']\n",
    "Stack:  ['<ROOT>', 'John']\n",
    "Predicted tree:  [0, 0, 0, 0, 0, 0, 0, 0]\n",
    "Move: (Shift,Left,Right): s\n",
    "----------------\n",
    "Buffer:  ['the', 'pie', 'in', 'the', 'fridge']\n",
    "Stack:  ['<ROOT>', 'John', 'made']\n",
    "Predicted tree:  [0, 0, 0, 0, 0, 0, 0, 0]\n",
    "Move: (Shift,Left,Right): l\n",
    "----------------\n",
    "Buffer:  ['the', 'pie', 'in', 'the', 'fridge']\n",
    "Stack:  ['<ROOT>', 'made']\n",
    "Predicted tree:  [0, 2, 0, 0, 0, 0, 0, 0]\n",
    "Move: (Shift,Left,Right): s\n",
    "----------------\n",
    "Buffer:  ['pie', 'in', 'the', 'fridge']\n",
    "Stack:  ['<ROOT>', 'made', 'the']\n",
    "Predicted tree:  [0, 2, 0, 0, 0, 0, 0, 0]\n",
    "Move: (Shift,Left,Right): s\n",
    "----------------\n",
    "Buffer:  ['in', 'the', 'fridge']\n",
    "Stack:  ['<ROOT>', 'made', 'the', 'pie']\n",
    "Predicted tree:  [0, 2, 0, 0, 0, 0, 0, 0]\n",
    "Move: (Shift,Left,Right): l\n",
    "----------------\n",
    "Buffer:  ['in', 'the', 'fridge']\n",
    "Stack:  ['<ROOT>', 'made', 'pie']\n",
    "Predicted tree:  [0, 2, 0, 4, 0, 0, 0, 0]\n",
    "Move: (Shift,Left,Right): s\n",
    "----------------\n",
    "Buffer:  ['the', 'fridge']\n",
    "Stack:  ['<ROOT>', 'made', 'pie', 'in']\n",
    "Predicted tree:  [0, 2, 0, 4, 0, 0, 0, 0]\n",
    "Move: (Shift,Left,Right): s\n",
    "----------------\n",
    "Buffer:  ['fridge']\n",
    "Stack:  ['<ROOT>', 'made', 'pie', 'in', 'the']\n",
    "Predicted tree:  [0, 2, 0, 4, 0, 0, 0, 0]\n",
    "Move: (Shift,Left,Right): s\n",
    "----------------\n",
    "Buffer:  []\n",
    "Stack:  ['<ROOT>', 'made', 'pie', 'in', 'the', 'fridge']\n",
    "Predicted tree:  [0, 2, 0, 4, 0, 0, 0, 0]\n",
    "Move: (Shift,Left,Right): l\n",
    "----------------\n",
    "Buffer:  []\n",
    "Stack:  ['<ROOT>', 'made', 'pie', 'in', 'fridge']\n",
    "Predicted tree:  [0, 2, 0, 4, 0, 0, 7, 0]\n",
    "Move: (Shift,Left,Right): l\n",
    "----------------\n",
    "Buffer:  []\n",
    "Stack:  ['<ROOT>', 'made', 'pie', 'fridge']\n",
    "Predicted tree:  [0, 2, 0, 4, 0, 7, 7, 0]\n",
    "Move: (Shift,Left,Right): r\n",
    "----------------\n",
    "Buffer:  []\n",
    "Stack:  ['<ROOT>', 'made', 'pie']\n",
    "Predicted tree:  [0, 2, 0, 4, 0, 7, 7, 4]\n",
    "Move: (Shift,Left,Right): r\n",
    "----------------\n",
    "Buffer:  []\n",
    "Stack:  ['<ROOT>', 'made']\n",
    "Predicted tree:  [0, 2, 0, 4, 2, 7, 7, 4]\n",
    "Move: (Shift,Left,Right): r\n",
    "----------------\n",
    "Final predicted tree:  [0, 2, 0, 4, 2, 7, 7, 4]\n",
    "```"
   ]
  },
  {
   "cell_type": "markdown",
   "metadata": {},
   "source": [
    "## 5-(c)\n",
    "\n",
    "### Output (First 3 lines)\n",
    "```\n",
    "[0, 0, 0, 0, 1, 1, 0, 1, 0, 0, 1, 2, 0, 2, 2]\n",
    "[0, 0, 0, 1, 0, 0, 1, 0, 1, 1, 0, 0, 1, 2, 0, 0, 1, 0, 0, 1, 0, 0, 0, 1, 1, 0, 0, 0, 0, 1, 1, 1, 2, 2, 2, 2, 0, 2, 2]\n",
    "[0, 0, 0, 1, 0, 0, 0, 1, 1, 2, 0, 0, 0, 0, 0, 1, 1, 0, 1, 1, 1, 0, 0, 0, 1, 1, 0, 0, 0, 0, 1, 1, 1, 0, 0, 0, 1, 1, 0, 0, 1, 2, 2, 2, 2, 2, 0, 2, 0, 0, 0, 0, 1, 1, 2, 2, 0, 2, 2]\n",
    "```\n",
    "\n",
    "### correct moves en-ud-dev.txt (First 3 lines)\n",
    "```\n",
    "[0, 0, 0, 0, 1, 1, 0, 1, 0, 0, 1, 2, 0, 2, 2]\n",
    "[0, 0, 0, 1, 0, 0, 1, 0, 1, 1, 0, 0, 1, 2, 0, 0, 1, 0, 0, 1, 0, 0, 0, 1, 1, 0, 0, 0, 0, 1, 1, 1, 2, 2, 2, 2, 0, 2, 2]\n",
    "[0, 0, 0, 1, 0, 0, 0, 1, 1, 2, 0, 0, 0, 0, 0, 1, 1, 0, 1, 1, 1, 0, 0, 0, 1, 1, 0, 0, 0, 0, 1, 1, 1, 0, 0, 0, 1, 1, 0, 0, 1, 2, 2, 2, 2, 2, 0, 2, 0, 0, 0, 0, 1, 1, 2, 2, 0, 2, 2]\n",
    "```"
   ]
  }
 ],
 "metadata": {
  "kernelspec": {
   "display_name": "Python 3",
   "language": "python",
   "name": "python3"
  },
  "language_info": {
   "codemirror_mode": {
    "name": "ipython",
    "version": 3
   },
   "file_extension": ".py",
   "mimetype": "text/x-python",
   "name": "python",
   "nbconvert_exporter": "python",
   "pygments_lexer": "ipython3",
   "version": "3.11.3"
  }
 },
 "nbformat": 4,
 "nbformat_minor": 2
}
